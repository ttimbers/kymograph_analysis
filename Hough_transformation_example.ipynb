{
 "cells": [
  {
   "cell_type": "code",
   "execution_count": null,
   "metadata": {
    "collapsed": true
   },
   "outputs": [],
   "source": [
    "from skimage.transform import (hough_line, hough_line_peaks,\n",
    "                               probabilistic_hough_line)\n",
    "from skimage.feature import canny\n",
    "from skimage import data\n",
    "\n",
    "import numpy as np\n",
    "import matplotlib.pyplot as plt\n",
    "%matplotlib inline"
   ]
  },
  {
   "cell_type": "code",
   "execution_count": null,
   "metadata": {
    "collapsed": true
   },
   "outputs": [],
   "source": [
    "# Construct test image\n",
    "\n",
    "image = np.zeros((100, 100))"
   ]
  },
  {
   "cell_type": "code",
   "execution_count": null,
   "metadata": {
    "collapsed": false
   },
   "outputs": [],
   "source": [
    "# Classic straight-line Hough transform\n",
    "\n",
    "idx = np.arange(25, 75)\n",
    "image[idx[::-1], idx] = 255\n",
    "image[idx, idx] = 255\n",
    "\n",
    "h, theta, d = hough_line(image)\n",
    "\n",
    "fig, ax = plt.subplots(1, 3, figsize=(8, 4))\n",
    "\n",
    "ax[0].imshow(image, cmap=plt.cm.gray)\n",
    "ax[0].set_title('Input image')\n",
    "ax[0].axis('image')\n",
    "\n",
    "ax[1].imshow(np.log(1 + h),\n",
    "           extent=[np.rad2deg(theta[-1]), np.rad2deg(theta[0]),\n",
    "                   d[-1], d[0]],\n",
    "           cmap=plt.cm.gray, aspect=1/1.5)\n",
    "ax[1].set_title('Hough transform')\n",
    "ax[1].set_xlabel('Angles (degrees)')\n",
    "ax[1].set_ylabel('Distance (pixels)')\n",
    "ax[1].axis('image')\n",
    "\n",
    "ax[2].imshow(image, cmap=plt.cm.gray)\n",
    "rows, cols = image.shape\n",
    "for _, angle, dist in zip(*hough_line_peaks(h, theta, d)):\n",
    "    y0 = (dist - 0 * np.cos(angle)) / np.sin(angle)\n",
    "    y1 = (dist - cols * np.cos(angle)) / np.sin(angle)\n",
    "    ax[2].plot((0, cols), (y0, y1), '-r')\n",
    "ax[2].axis((0, cols, rows, 0))\n",
    "ax[2].set_title('Detected lines')\n",
    "ax[2].axis('image')"
   ]
  },
  {
   "cell_type": "code",
   "execution_count": null,
   "metadata": {
    "collapsed": true
   },
   "outputs": [],
   "source": [
    "# Line finding, using the Probabilistic Hough Transform\n",
    "\n",
    "image = data.camera()\n",
    "edges = canny(image, 2, 1, 25)\n",
    "lines = probabilistic_hough_line(edges, threshold=10, line_length=5, line_gap=3)\n",
    "\n",
    "fig2, ax = plt.subplots(1, 3, figsize=(8, 3))\n",
    "\n",
    "ax[0].imshow(image, cmap=plt.cm.gray)\n",
    "ax[0].set_title('Input image')\n",
    "ax[0].axis('image')\n",
    "\n",
    "ax[1].imshow(edges, cmap=plt.cm.gray)\n",
    "ax[1].set_title('Canny edges')\n",
    "ax[1].axis('image')\n",
    "\n",
    "ax[2].imshow(edges * 0)\n",
    "\n",
    "for line in lines:\n",
    "    p0, p1 = line\n",
    "    ax[2].plot((p0[0], p1[0]), (p0[1], p1[1]))\n",
    "\n",
    "ax[2].set_title('Probabilistic Hough')\n",
    "ax[2].axis('image')\n",
    "plt.show()"
   ]
  },
  {
   "cell_type": "code",
   "execution_count": null,
   "metadata": {
    "collapsed": true
   },
   "outputs": [],
   "source": []
  },
  {
   "cell_type": "code",
   "execution_count": null,
   "metadata": {
    "collapsed": true
   },
   "outputs": [],
   "source": []
  }
 ],
 "metadata": {
  "kernelspec": {
   "display_name": "Python 2",
   "language": "python",
   "name": "python2"
  },
  "language_info": {
   "codemirror_mode": {
    "name": "ipython",
    "version": 2
   },
   "file_extension": ".py",
   "mimetype": "text/x-python",
   "name": "python",
   "nbconvert_exporter": "python",
   "pygments_lexer": "ipython2",
   "version": "2.7.10"
  }
 },
 "nbformat": 4,
 "nbformat_minor": 0
}
